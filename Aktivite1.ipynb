{
 "cells": [
  {
   "cell_type": "markdown",
   "metadata": {},
   "source": [
    "#### TBL220 Python Programlama Aktivite1"
   ]
  },
  {
   "cell_type": "markdown",
   "metadata": {},
   "source": [
    "#### İntihal: \n",
    "Netten alınacak kısmi kod parçaları önceden kod içinde/raporda belirtilmek ve soru sorulduğunda cevaplanması durumunda sıkıntı çıkarmayacaktır. (i) Internet kaynağını belirtmeyen/açıklayamayan/üzerinde geliştirme yapmayan veya (ii) birbirleriyle benzer/aynı çalışma teslim edenlerin aktiviteleri sıfır üzerinden değerlendirilecektir."
   ]
  },
  {
   "cell_type": "markdown",
   "metadata": {},
   "source": [
    "#### Gönderim şekli"
   ]
  },
  {
   "cell_type": "markdown",
   "metadata": {},
   "source": [
    "pdf olarak \"ogrenciNo.pdf\" dokumanını gonderme\n",
    "-calisma dosyasında (File -> Print Preview) sonrası olusan html dosyasını yazdır deyip pdf olarak kaydetme veya\n",
    "-(File -> Download as -> HTML) seklinde indirip pdf'e cevirme http://html2pdf.com/\n",
    "\n",
    "edestek üzerinden yuklenecektir."
   ]
  },
  {
   "cell_type": "markdown",
   "metadata": {},
   "source": [
    "### Beş tane döngülerle ilgili problem yazılıp çözümleri altında verilecektir.\n",
    "\n",
    "Sorular yepisyeni üretilmeyip klasik olarak internet üzerinden alınmış ve öğrenci tarafından çözülmüştür.\n"
   ]
  },
  {
   "cell_type": "markdown",
   "metadata": {},
   "source": [
    "Girilen sayının asal sayı olup olmadığını bulan program."
   ]
  },
  {
   "cell_type": "code",
   "execution_count": 60,
   "metadata": {},
   "outputs": [
    {
     "name": "stdout",
     "output_type": "stream",
     "text": [
      "Girilen sayı: 7\n",
      "Sayı asaldır.\n"
     ]
    }
   ],
   "source": [
    "sayi=int(input(\"Girilen sayı: \"))\n",
    "asalmi=True\n",
    "\n",
    "if(sayi==1):\n",
    "    asalmi=False\n",
    "\n",
    "for i in range(2,sayi):\n",
    "    if(sayi%i==0):\n",
    "        asalmi=False\n",
    "        break\n",
    "            \n",
    "\n",
    "if asalmi:\n",
    "    print(\"Sayı asaldır.\")\n",
    "else:\n",
    "    print(\"Sayı asal değildir.\")"
   ]
  },
  {
   "cell_type": "markdown",
   "metadata": {},
   "source": [
    "50-100 arasındaki sayıları 2 şer 2 şer ekrana yazdıran program."
   ]
  },
  {
   "cell_type": "code",
   "execution_count": 64,
   "metadata": {},
   "outputs": [
    {
     "name": "stdout",
     "output_type": "stream",
     "text": [
      "50\n",
      "52\n",
      "54\n",
      "56\n",
      "58\n",
      "60\n",
      "62\n",
      "64\n",
      "66\n",
      "68\n",
      "70\n",
      "72\n",
      "74\n",
      "76\n",
      "78\n",
      "80\n",
      "82\n",
      "84\n",
      "86\n",
      "88\n",
      "90\n",
      "92\n",
      "94\n",
      "96\n",
      "98\n"
     ]
    }
   ],
   "source": [
    "for i in range(50,100,2):\n",
    "    print(i)"
   ]
  },
  {
   "cell_type": "markdown",
   "metadata": {},
   "source": [
    "sayilar = [0,1,2,3,4,5,6,7]\n",
    "Sayilar listesindeki tek sayıların karesini alan program."
   ]
  },
  {
   "cell_type": "code",
   "execution_count": 71,
   "metadata": {},
   "outputs": [
    {
     "name": "stdout",
     "output_type": "stream",
     "text": [
      "1\n",
      "9\n",
      "25\n",
      "49\n"
     ]
    }
   ],
   "source": [
    "sayilar = [0,1,2,3,4,5,6,7]\n",
    "for i in sayilar:\n",
    "    if(i%2!=0):\n",
    "        print(i**2)"
   ]
  },
  {
   "cell_type": "markdown",
   "metadata": {},
   "source": [
    "sayilar = [0,1,2,3,4,5,6,7]\n",
    "Sayilar listesinde sayıların toplamını alan program."
   ]
  },
  {
   "cell_type": "code",
   "execution_count": 70,
   "metadata": {},
   "outputs": [
    {
     "name": "stdout",
     "output_type": "stream",
     "text": [
      "28\n"
     ]
    }
   ],
   "source": [
    "sayilar = [0,1,2,3,4,5,6,7]\n",
    "toplam=0\n",
    "\n",
    "for i in sayilar:\n",
    "    toplam+=i\n",
    "\n",
    "print(toplam)"
   ]
  },
  {
   "cell_type": "markdown",
   "metadata": {},
   "source": [
    "\"iyidir sen nasılsın\" diyene kadar \"nasılsın\" diye soran program."
   ]
  },
  {
   "cell_type": "code",
   "execution_count": 78,
   "metadata": {},
   "outputs": [
    {
     "name": "stdout",
     "output_type": "stream",
     "text": [
      "Nasılsın?\n",
      "aa\n",
      "Nasılsın?\n",
      "aa\n",
      "Nasılsın?\n",
      "iyidir sen nasılsın\n",
      "1-0 uğraşıyoruz işte\n"
     ]
    }
   ],
   "source": [
    "soru=\"Nasılsın\"\n",
    "cevap=\"\"\n",
    "\n",
    "print(\"Nasılsın?\")\n",
    "\n",
    "while cevap!= \"iyidir sen nasılsın\":\n",
    "    cevap=input()\n",
    "    if(cevap!=\"iyidir sen nasılsın\"):\n",
    "        print(\"Nasılsın?\")\n",
    "\n",
    "print(\"1-0 uğraşıyoruz işte\")"
   ]
  },
  {
   "cell_type": "markdown",
   "metadata": {},
   "source": [
    "### Beş tane koşul ifadelerle ilgili problem yazılıp çözümleri altında verilecektir."
   ]
  },
  {
   "cell_type": "markdown",
   "metadata": {},
   "source": [
    "Kullanıcıdan isim, yaş ve eğitim bilgilerini isteyip ehliyet alabilme durumunu kontrol ediniz. Ehliyet alma koşulu en az 18 ve eğitim durumu lise ya da üniversite olmalıdır."
   ]
  },
  {
   "cell_type": "code",
   "execution_count": 79,
   "metadata": {},
   "outputs": [
    {
     "name": "stdout",
     "output_type": "stream",
     "text": [
      "isminiz: Mehmet\n",
      "yaşınız: 20\n",
      "eğitim: üniversite\n",
      "ehliyet alabilirsiniz.\n"
     ]
    }
   ],
   "source": [
    "isim = input(\"isminiz: \" )\n",
    "yas=int(input(\"yaşınız: \"))\n",
    "egitim = input(\"eğitim: \")\n",
    "\n",
    "if((yas>=18) and (egitim==\"lise\" or egitim==\"üniversite\")):\n",
    "    print(\"ehliyet alabilirsiniz.\")\n",
    "else:\n",
    "    print(\"ehliyet alamazsınız.\")"
   ]
  },
  {
   "cell_type": "markdown",
   "metadata": {},
   "source": [
    "Bir öğrencinin 2 yazılı bir sözlü notunu alıp hesaplanan ortalamaya göre not aralığına karşılık gelen not bilgisini yazdıran program."
   ]
  },
  {
   "cell_type": "code",
   "execution_count": 80,
   "metadata": {},
   "outputs": [
    {
     "name": "stdout",
     "output_type": "stream",
     "text": [
      "1.yazılı: 60\n",
      "2.yazılı: 70\n",
      "sözlü: 80\n",
      "ortalamanız: 70.0 notunuz: 4\n"
     ]
    }
   ],
   "source": [
    "yazili1=float(input(\"1.yazılı: \"))\n",
    "yazili2=float(input(\"2.yazılı: \"))\n",
    "sozlu=float(input(\"sözlü: \"))\n",
    "\n",
    "ortalama = (yazili1+yazili2+sozlu)/3\n",
    "\n",
    "if(ortalama>=0) and (ortalama<25):\n",
    "    print(f\"ortalamanız: {ortalama} notunuz: 0\")\n",
    "elif (ortalama>=25) and (ortalama<45):\n",
    "    print(f\"ortalamanız: {ortalama} notunuz: 1\")\n",
    "elif(ortalama>=45) and (ortalama<55):\n",
    "    print(f\"ortalamanız: {ortalama} notunuz: 2\")\n",
    "elif(ortalama>=55) and (ortalama<70):\n",
    "    print(f\"ortalamanız: {ortalama} notunuz: 3\")\n",
    "elif(ortalama>=70) and (ortalama<85):\n",
    "    print(f\"ortalamanız: {ortalama} notunuz: 4\")\n",
    "elif(ortalama>=85) and (ortalama<100):\n",
    "    print(f\"ortalamanız: {ortalama} notunuz: 4\")\n",
    "elif((ortalama>100) or (ortalama<0)):\n",
    "    print(\"yanlış bilgi girdiniz.\")\n",
    "    \n"
   ]
  },
  {
   "cell_type": "markdown",
   "metadata": {},
   "source": [
    "Girilen bir sayının 0-100 arasında olup olmadığını bulan program."
   ]
  },
  {
   "cell_type": "code",
   "execution_count": 81,
   "metadata": {},
   "outputs": [
    {
     "name": "stdout",
     "output_type": "stream",
     "text": [
      "Sayı giriniz: 101\n",
      "101-> 0-100 arasında değildir.\n"
     ]
    }
   ],
   "source": [
    "sayi=int(input(\"Sayı giriniz: \"))\n",
    "if(sayi>=0 and sayi<=100):\n",
    "    print(f\"{sayi}-> 0-100 arasındadır.\")\n",
    "else:print(f\"{sayi}-> 0-100 arasında değildir.\")    "
   ]
  },
  {
   "cell_type": "markdown",
   "metadata": {},
   "source": [
    "Girilen bir sayının pozitif çift sayı olup olmadığını bulan program."
   ]
  },
  {
   "cell_type": "code",
   "execution_count": 34,
   "metadata": {},
   "outputs": [
    {
     "name": "stdout",
     "output_type": "stream",
     "text": [
      "Sayı giriniz: 2\n",
      "2, uygundur.\n"
     ]
    }
   ],
   "source": [
    "sayi=int(input(\"Sayı giriniz: \"))\n",
    "\n",
    "if(sayi>0 and sayi%2==0):\n",
    "    print(f\"{sayi}, uygundur.\")\n",
    "else:print(f\"{sayi}, uygun değildir.\")  "
   ]
  },
  {
   "cell_type": "markdown",
   "metadata": {},
   "source": [
    "Girilen 3 sayıyı büyüklük olarak karşılaştıran program."
   ]
  },
  {
   "cell_type": "code",
   "execution_count": 51,
   "metadata": {},
   "outputs": [
    {
     "name": "stdout",
     "output_type": "stream",
     "text": [
      "1.Sayıyı giriniz: 15\n",
      "2.Sayıyı giriniz: 2222222222\n",
      "3.Sayıyı giriniz: 1\n",
      "2222222222 sayısı girilen sayılardan en büyüğüdür.\n"
     ]
    }
   ],
   "source": [
    "say1=input(\"1.Sayıyı giriniz: \")\n",
    "say2=input(\"2.Sayıyı giriniz: \")\n",
    "say3=input(\"3.Sayıyı giriniz: \")\n",
    "\n",
    "if(say1>say2 and say1>say3):\n",
    "     print(f\"{say1} sayısı girilen sayılardan en büyüğüdür.\")\n",
    "elif(say2>say1 and say2>say3):\n",
    "     print(f\"{say2} sayısı girilen sayılardan en büyüğüdür.\")\n",
    "elif(say3>say1 and say3>say2):\n",
    "     print(f\"{say3} sayısı girilen sayılardan en büyüğüdür.\")"
   ]
  }
 ],
 "metadata": {
  "kernelspec": {
   "display_name": "Python 3",
   "language": "python",
   "name": "python3"
  },
  "language_info": {
   "codemirror_mode": {
    "name": "ipython",
    "version": 3
   },
   "file_extension": ".py",
   "mimetype": "text/x-python",
   "name": "python",
   "nbconvert_exporter": "python",
   "pygments_lexer": "ipython3",
   "version": "3.8.5"
  }
 },
 "nbformat": 4,
 "nbformat_minor": 2
}
