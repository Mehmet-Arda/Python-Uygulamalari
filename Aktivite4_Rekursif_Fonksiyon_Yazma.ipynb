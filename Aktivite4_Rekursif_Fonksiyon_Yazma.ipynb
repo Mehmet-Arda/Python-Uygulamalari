{
 "cells": [
  {
   "cell_type": "markdown",
   "metadata": {},
   "source": [
    "#### Aktivite4: Rekürsif Fonksiyon Yazma\n",
    "#### Aşağıdaki problemlemler için rekürsif foksiyon yazarak altına çözüp birkaç farklı parametre için çıktıları gösteriniz.  Herbir fonksiyon için docstring dokümantasyonunu ve gerekli görülmesi durumunda program içinde yorum satırlarınızı da ekleyiniz. ipynb dosyasından üretilen\"ogrenci_no.pdf\" dosyasını edestek yukleyiniz.."
   ]
  },
  {
   "cell_type": "markdown",
   "metadata": {},
   "source": [
    "<ul>\n",
    "\t<li>Liste içinde en küçük değeri bulma</li>\n",
    "\t<li>Karekök fonksiyonu</li>\n",
    "\t<li>En büyük ortak bölen hesaplama</li>\n",
    "\t<li>Asallık testi</li>\n",
    "    <li>Tuple üzerinde rekürsif uygulama</li>\n",
    "</ul>"
   ]
  },
  {
   "cell_type": "markdown",
   "metadata": {},
   "source": [
    "En küçük parametre değeri\n",
    "-------------------\n",
    "Örnekler:\n",
    "\n",
    "    enkucuk([1,4,6,91,2,5])\n",
    "    1\n",
    "    \n",
    "    enkucuk([3,1,4])\n",
    "    1\n",
    "    \n",
    "    enkucuk([1,2,3,-1,4,-2,5])\n",
    "    -2"
   ]
  },
  {
   "cell_type": "code",
   "execution_count": 5,
   "metadata": {},
   "outputs": [
    {
     "data": {
      "text/plain": [
       "1"
      ]
     },
     "execution_count": 5,
     "metadata": {},
     "output_type": "execute_result"
    }
   ],
   "source": [
    "def enkucuk(liste):\n",
    "    if len(liste)==1:\n",
    "        return liste[0]\n",
    "    else:\n",
    "        return min(liste[0],enkucuk(liste[1:]))\n",
    "\n",
    "enkucuk([1,4,6,91,2,5])    "
   ]
  },
  {
   "cell_type": "markdown",
   "metadata": {},
   "source": [
    "Karekök fonksiyonu\n",
    "---------------------\n",
    "Verilen bir $N$ sayısının karekökünü bulmak için Babil döneminden beri kullanılan tekrarlamalı (iteratif) bir yöntem vardır: Önce, karekök için bir tahminde bulunun ve buna $x_0$ deyin. Bir sonraki tahminimiz\n",
    "$$x_1 = \\frac{1}{2}\\left(x_0 + N/x_0\\right)$$\n",
    "olacak. Genel olarak,\n",
    "$$x_{n+1} = \\frac{1}{2}\\left(x_n + N/x_n\\right)$$\n",
    "kuralıyla ardışık iterasyonlar yaparsak, $x_n$ değerleri hızlıca $N$'nin kareköküne yakınsayacaktır.\n",
    "\n",
    "Bu yöntem, fonksiyon köklerini bulmak için kullanılan en iyi algoritmalardan biri olan Newton yönteminin özel bir durumudur.\n",
    "\n",
    "Bu algoritmayı kullanarak, bir sayının karekökünü veren bir fonksiyon yazın.\n",
    "\n",
    "Parametreler:\n",
    "* Karekökü alınacak sayı `N`.\n",
    "* İlk tahmin `x0`.\n",
    "* Tolerans `tol`. Varsayılan değer $10^{-10}$.\n",
    "* Azami iterasyon sayısı `maxiter`. Varsayılan değer 10.\n",
    "\n",
    "Sonuç:\n",
    "* `N`'nin karekökü için en iyi tahmin\n",
    "\n",
    "Fonksiyon içinde, yukarıdaki formülü tekrar tekrar işleterek daha iyi tahminlere ulaşan bir döngü yazın. Her adıımda, hata değeri $|x_n^2 - N|$ ile tolerans `tol` karşılaştırılsın. Hata,i toleransın altına düşünce döngü sonlansın. Ayrıca, döngü iterasyonları sayısı `maxiter`'den fazla olursa yine döngü sonlansın. Bu durumda bir uyarı mesajı ekrana yazılsın ve fonksiyon döngüde elde edilen son sonucu versin. \n",
    "\n",
    "Örnekler:\n",
    "\n",
    "    karekok(N=10, x0=1)\n",
    "    3.162277660168379\n",
    "    \n",
    "    karekok(N=10000, x0=0.1)\n",
    "    10 iterasyonda sonuca ulaşılamadı. 'hata' veya 'maxiter' değerlerini değiştirin\n",
    "    103.38412392442035\n",
    "    \n",
    "    karekok(N=10000, x0=0.1, maxiter=15)\n",
    "    100.0\n",
    "\n",
    "Not: Tolerans değerinden ne kadar uzaklastıgınızla alakalı ayrı bir fonksiyon yazabilirsiniz."
   ]
  },
  {
   "cell_type": "code",
   "execution_count": null,
   "metadata": {},
   "outputs": [],
   "source": []
  },
  {
   "cell_type": "markdown",
   "metadata": {},
   "source": [
    "En büyük ortak bölen\n",
    "---------------------------\n",
    "\n",
    "Örnek:\n",
    "    \n",
    "    ortakbol(18, 64)\n",
    "    2\n",
    "    \n",
    "    ortakbol(32, 64)\n",
    "    32"
   ]
  },
  {
   "cell_type": "code",
   "execution_count": 6,
   "metadata": {},
   "outputs": [
    {
     "data": {
      "text/plain": [
       "2"
      ]
     },
     "execution_count": 6,
     "metadata": {},
     "output_type": "execute_result"
    }
   ],
   "source": [
    "def ortakbol(a,b):\n",
    "    if(b==0):\n",
    "        return a\n",
    "    else:\n",
    "        return ortakbol(b,a%b)\n",
    "    \n",
    "ortakbol(18,64)    "
   ]
  },
  {
   "cell_type": "markdown",
   "metadata": {},
   "source": [
    "Asallık testi\n",
    "--------------------------------\n",
    "Bir sayı 1'den büyük olmak koşulu ile kendisi hariç böleni yoksa asal sayıdır.\n",
    "\n",
    "    asalmi(35)\n",
    "    False\n",
    "    \n",
    "    asalmi(97)\n",
    "    True"
   ]
  },
  {
   "cell_type": "code",
   "execution_count": 7,
   "metadata": {},
   "outputs": [
    {
     "data": {
      "text/plain": [
       "True"
      ]
     },
     "execution_count": 7,
     "metadata": {},
     "output_type": "execute_result"
    }
   ],
   "source": [
    "def asalmi(n,i=2):\n",
    "    if(n<=2):\n",
    "        return False\n",
    "    if(n==2):\n",
    "        return True\n",
    "    if(n%i==0):\n",
    "        return False\n",
    "    if(i*i>n):\n",
    "        return True\n",
    "    return asalmi(n,i+1)\n",
    "\n",
    "asalmi(97)\n",
    "       "
   ]
  },
  {
   "cell_type": "markdown",
   "metadata": {},
   "source": [
    "Tuple alt parca toplamı\n",
    "------------------\n",
    "Verilen bir tuple'a ait alt parcasında verilen sayıyı elde etmek mumkun mudur?  altset(tuple,k)\n",
    "    \n",
    "    altset_topla((2, 4, 7, 3), 5) # 2 + 3 = 5\n",
    "    True\n",
    "    subset_sum((1, 9, 5, 7, 3), 2)\n",
    "    False\n",
    "    \n",
    "Not: bir elemanın tuple icinde olup olmadıgına dair (in) operatörü kullanılabilir.\n",
    "    \n",
    "    3 in (1, 2, 3)\n",
    "    True\n",
    "    4 in(1, 2, 3)\n",
    "    False\n"
   ]
  },
  {
   "cell_type": "code",
   "execution_count": null,
   "metadata": {},
   "outputs": [],
   "source": [
    "def altset_topla(*t,i):\n",
    "    if len"
   ]
  },
  {
   "cell_type": "markdown",
   "metadata": {},
   "source": [
    "Kuvvet Hesaplama\n",
    "------------------\n",
    "Bir sayının kuvvetini hesaplayan rekursif fonksiyo\n",
    "    \n",
    "Not: bir elemanın tuple icinde olup olmadıgına dair (in) operatörü kullanılabilir.\n",
    "    \n",
    "    3 in (1, 2, 3)\n",
    "    True\n",
    "    4 in(1, 2, 3)\n",
    "    False"
   ]
  },
  {
   "cell_type": "code",
   "execution_count": 19,
   "metadata": {},
   "outputs": [
    {
     "name": "stdout",
     "output_type": "stream",
     "text": [
      "8\n"
     ]
    }
   ],
   "source": [
    "def kuvvetBul(sayi,kuvvet):\n",
    "    if(kuvvet==0 or kuvvet==1):\n",
    "        return sayi\n",
    "    else:\n",
    "        return sayi*kuvvetBul(sayi,kuvvet-1)\n",
    "\n",
    "print(kuvvetBul(2,3))    "
   ]
  },
  {
   "cell_type": "code",
   "execution_count": null,
   "metadata": {},
   "outputs": [],
   "source": []
  }
 ],
 "metadata": {
  "kernelspec": {
   "display_name": "Python 3",
   "language": "python",
   "name": "python3"
  },
  "language_info": {
   "codemirror_mode": {
    "name": "ipython",
    "version": 3
   },
   "file_extension": ".py",
   "mimetype": "text/x-python",
   "name": "python",
   "nbconvert_exporter": "python",
   "pygments_lexer": "ipython3",
   "version": "3.8.5"
  }
 },
 "nbformat": 4,
 "nbformat_minor": 2
}
