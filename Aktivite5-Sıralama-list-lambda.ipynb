{
 "cells": [
  {
   "cell_type": "markdown",
   "metadata": {},
   "source": [
    "#### Aktivite5-Sıralama-listcomp-lambda\n",
    "#### Aşağıdaki problemlemleri foksiyon yazarak altına çözüp birkaç farklı parametre için çıktıları gösteriniz.  Herbir fonksiyon için docstring dokümantasyonunu ve gerekli görülmesi durumunda program içinde yorum satırlarınızı da ekleyiniz. \"ogrenci_no.pdf\" dosyasını edestek yukleyiniz."
   ]
  },
  {
   "cell_type": "markdown",
   "metadata": {},
   "source": [
    "<ul>\n",
    "\t<li>k. en küçük elemanı bulma</li>\n",
    "\t<li>En yakın çifti bulma</li>\n",
    "\t<li>Aynı isimli kisiye ait cocukları sırala</li>\n",
    "\t<li>Bir listedeki tekrar edenleri bulma</li>\n",
    "\t<li>Matris çarpımı</li>\n",
    "\t<li>Bir text içindeki kelimelerin frekansını bulma</li>\n",
    "</ul>"
   ]
  },
  {
   "cell_type": "markdown",
   "metadata": {},
   "source": [
    "k. en küçük elemanı bulma\n",
    "-------------------\n",
    "Bir liste içindeki k. en küçük elemanı bulan fonksiyonu yazınız. İlk argüman k. elemanı gösterir. Liste boyutu dinamiktir. Her liste için çalışabilmelidir.\n",
    "\n",
    "Örnekler:\n",
    "\n",
    "    kthkucuk(3, [7, 10, 4, 3, 20, 15])\n",
    "    7\n",
    "    \n",
    "    kthkucuk(4, [7, 10, 4, 3, 20, 15])\n",
    "    10\n",
    "    \n",
    "    kthkucuk(7, [1,2,3,-1,4,-2,5])\n",
    "    5"
   ]
  },
  {
   "cell_type": "code",
   "execution_count": 17,
   "metadata": {},
   "outputs": [
    {
     "name": "stdout",
     "output_type": "stream",
     "text": [
      "7\n",
      "10\n"
     ]
    }
   ],
   "source": [
    "def kthkucuk(k,*l):\n",
    "    \"\"\"\n",
    "    Tanım:k. en küçük sayıyı döndüren fonksiyon.\n",
    "    \n",
    "    Parametreler: k:k.sayı, *l:sayının aranıp bulunacağı liste.\n",
    "    \n",
    "    Çıktı:k.sayı.\n",
    "    \"\"\"\n",
    "    liste=[x for x in list(l[0])]\n",
    "    liste.sort()\n",
    "    print(liste[k-1])\n",
    "\n",
    "kthkucuk(3, [7,10,4,3,20,15])\n",
    "kthkucuk(4, [7, 10, 4, 3, 20, 15])"
   ]
  },
  {
   "cell_type": "markdown",
   "metadata": {},
   "source": [
    "En yakın çifti bulma\n",
    "--------------------\n",
    "Argümanları bir liste ve sayı olan encift() fonksiyonu belirtilen sayı için toplamı en yakın olan listedeki eleman çiftini bulmaktadır. (Listeyi fonksiyon içinde sıraladıktan sonra cifti bulunuz)\n",
    "\n",
    "Örnekler:\n",
    "\n",
    "    encift([10, 22, 28, 29, 30, 40], 54)\n",
    "    22 ve 30\n",
    "    \n",
    "    encift([1, 3, 4, 7, 10], 15)\n",
    "    4 ve 10\n",
    "    "
   ]
  },
  {
   "cell_type": "code",
   "execution_count": 22,
   "metadata": {},
   "outputs": [
    {
     "name": "stdout",
     "output_type": "stream",
     "text": [
      "22 30\n",
      "4 10\n"
     ]
    }
   ],
   "source": [
    "import math\n",
    "\n",
    "def encift(l,k):\n",
    "   \"\"\"\n",
    "    Tanım:\"l\" listesindeki hangi iki elemanın toplamının \"k\" sayısına daha yakın olduğunu bulan fonksiyon.\n",
    "    \n",
    "    Parametreler: l:sayılar listesi, k:sayı parametresi.\n",
    "    \n",
    "    Çıktı:\"k\" sayısına toplamları en yakın iki sayı.\n",
    "   \"\"\" \n",
    "   kontrol=[0,0,1000]\n",
    "   for a in range(len(l)):\n",
    "       if a==l[len(l)-1]:\n",
    "           break\n",
    "       for b in range((a+1),len(l)):\n",
    "          fark = math.fabs(k - (l[a] + l[b]))\n",
    "          if kontrol[2]>fark:\n",
    "             kontrol=[l[a],l[b],fark]\n",
    "   print(f\"{kontrol[0]} {kontrol[1]}\")\n",
    "\n",
    "encift([10,22,28,29,30,40], 54)\n",
    "encift([1,3,4,7,10],15)"
   ]
  },
  {
   "cell_type": "markdown",
   "metadata": {},
   "source": [
    "Aynı isimli kisiye ait cocukları sırala\n",
    "---------------------------\n",
    "Bir string listesinde bir kisi adı ve anne ve baba isimlerinin tutulduğunu varsayın \"Kisi Anne Baba\". Örneğin ilk eleman Ahmet, Ayse ve Mehmetin cocuklarıdır. \n",
    "\n",
    "    kisiler_listesi = [\"Fadime Ayse Mehmet\", \"Ali Nurhan Hasan\", \"Selim Betül Mehmet\" \"Ahmet Ayse Osman\"]\n",
    "\n",
    "Parametre olarak anne veya baba ismi ile yukarıdaki gibi bir listeyi alan geriye aynı isimli annelere/babalara ait çocukları sıralayarak döndüren bir fonksiyonu aşağıdaki üc yöntem icin ayrı ayrı yazınız:\n",
    "\n",
    "1- anne veya babaya göre (fonksiyonda hangisi belirtildi ise) cocuk isimleri ve anne/baba isimleriden yeni bir liste olustur. Yeni listeyi cocuk isimlerine göre sırala. (sıralama slaytı, sayfa 7deki yöntem)\n",
    "\n",
    "    cocuklar(kisiler_listesi, Ayse) --> [[\"Fadime\", \"Ayse\"], [\"Ahmet\", \"Ayse\"]] -->  [\"Ahmet\", \"Fadime\"]\n",
    "\n",
    "2- sıralama fonksiyonundaki \"key\"e fonksiyon vererek çözünüz. (sıralama slaytı, sayfa 8'deki yöntem)\n",
    "\n",
    "3- sıralama fonksiyonundaki \"key\"e itemgetter() fonksiyonunu vererek çözünüz. (sıralama slaytı, sayfa 10'daki yöntem)\n",
    "\n",
    "Örnek:\n",
    "    \n",
    "    cocuklar(kisiler_listesi, Ayse)\n",
    "    [\"Ahmet\", \"Fadime\"]    \n",
    "    cocuklar(isiler_listesi, Mehmet)\n",
    "    [\"Fadime\", \"Selim\"] "
   ]
  },
  {
   "cell_type": "code",
   "execution_count": 24,
   "metadata": {},
   "outputs": [
    {
     "name": "stdout",
     "output_type": "stream",
     "text": [
      "[['Fadime', 'Ayse'], ['Ahmet', 'Ayse']]\n",
      "[['Ahmet', 'Ayse'], ['Fadime', 'Ayse']]\n",
      "['Ahmet', 'Fadime']\n"
     ]
    }
   ],
   "source": [
    "def kisiler(aile,ebeveyn):\n",
    "    \"\"\"\n",
    "    Tanım:aile listesindeki ebeveyni belirtilen çocukların isimlerini döndüren fonksiyon.\n",
    "    \n",
    "    Parametreler: aile:\"çocuk anne baba\" sırasında aileleri tutan string değişken. , ebeveyn:çocuk arama parametresi.\n",
    "    \n",
    "    Çıktı:\"ebeveyn\" in çocuğu.\n",
    "    \"\"\" \n",
    "\n",
    "    if aile.find(ebeveyn)!=-1:\n",
    "        return aile.split(\" \")[0]\n",
    "\n",
    "def cocuklar(kisiler_listesi,ebeveyn):\n",
    "    \"\"\"\n",
    "    Tanım:kisiler listesinde ebeveyni belirtilen ailelerin çocuklarını bulup sıralayan fonksiyon.\n",
    "    \n",
    "    Parametreler: kisiler_listesi:\"çocuk anne baba\" sırasında aileleri tutan liste. , ebeveyn:çocuk arama parametresi.\n",
    "    \n",
    "    Çıktı:\"ebeveyn\" in çocuklarının sıralanmış listesi.\n",
    "   \"\"\" \n",
    "    keyed_kisiler = []\n",
    "\n",
    "    for aile in kisiler_listesi:\n",
    "        if kisiler(aile, ebeveyn) != None:\n",
    "            keyed_kisiler.append([kisiler(aile, ebeveyn), ebeveyn])\n",
    "\n",
    "    print(keyed_kisiler)\n",
    "    sorted_keyed_kisiler = sorted(keyed_kisiler)\n",
    "    print(sorted_keyed_kisiler)\n",
    "\n",
    "    sorted_cocuklar = []\n",
    "    for cocuklar in sorted_keyed_kisiler:\n",
    "        sorted_cocuklar.append(cocuklar[0])\n",
    "    print(sorted_cocuklar)\n",
    "\n",
    "\n",
    "kisiler_listesi = [\"Fadime Ayse Mehmet\", \"Ali Nurhan Hasan\",\n",
    "                       \"Selim Betül Mehmet\" ,\"Ahmet Ayse Osman\"]\n",
    "    \n",
    "cocuklar(kisiler_listesi,\"Ayse\")"
   ]
  },
  {
   "cell_type": "markdown",
   "metadata": {},
   "source": [
    "Bir listedeki tekrar edenleri bulma\n",
    "--------------------------------\n",
    "Bir listenin tekrar etmeyen elemanlarını list comprehensions yoluyla bulunuz.\n",
    "\n",
    "    a = [1,2,3,2,1,5,6,5,5,5]\n",
    "    sonuc= [1, 2, 5]"
   ]
  },
  {
   "cell_type": "code",
   "execution_count": 6,
   "metadata": {},
   "outputs": [
    {
     "name": "stdout",
     "output_type": "stream",
     "text": [
      "[1, 2, 5]\n"
     ]
    }
   ],
   "source": [
    "    a=[1,2,3,2,1,5,6,5,5,5]\n",
    "    \n",
    "    sonuc=[]\n",
    "    [sonuc.append(x) for x in a if a.count(x)>1 and x not in sonuc]\n",
    "    print (sonuc)"
   ]
  },
  {
   "cell_type": "markdown",
   "metadata": {},
   "source": [
    "Matris çarpımı\n",
    "--------------------------------\n",
    "List of list şeklinde verilen matrislerin çarpımını list comprehensions yoluyla hesaplayınız. Not: zip() metodundan yararlanınız. zip() metodu örneği aşağıda verilmiştir.\n",
    "    \n",
    "    no = [23,56,87,47,12,36,45,47]\n",
    "    isim=[\"Ahmet\",\"Mehmet\",\"Ayşe\",\"Zeynep\",\"Elif\",\"Kemal\",\"Fatma\",\"Can\"]\n",
    " \n",
    "    zip1 =zip(no,isim)\n",
    "    print(list(zip1))\n",
    " \n",
    "    [(23, 'Ahmet'), (56, 'Mehmet'), (87, 'Ayşe'), (47, 'Zeynep'), (12, 'Elif'), (36, 'Kemal'), (45, 'Fatma'), (47, 'Can')]\n",
    "\n",
    "Örnekler:\n",
    "\n",
    "    A = [[1, 2, 3], [4, 5, 6]]\n",
    "    B = [[7, 8], [9, 10], [11, 12]] ise\n",
    "    sonuc= [[58, 64], [139, 154]]"
   ]
  },
  {
   "cell_type": "code",
   "execution_count": 11,
   "metadata": {},
   "outputs": [
    {
     "name": "stdout",
     "output_type": "stream",
     "text": [
      "[[58, 64], [139, 154]]\n"
     ]
    }
   ],
   "source": [
    "def matrix_carp(a,b):\n",
    "    \"\"\"\n",
    "    Tanım:girilen iki matrix'i çarpımını yazan fonksiyon.\n",
    "    \n",
    "    Parametreler: a: 1.matrix, b:2.matrix\n",
    "    \n",
    "    Çıktı:matrix çarpımının sonucu.\n",
    "    \"\"\" \n",
    "    return [[sum(i*j for i,j in zip(r,c)) for c in zip(*b)] for r in a]\n",
    "\n",
    "a = [[1, 2, 3], [4, 5, 6]]\n",
    "b = [[7, 8], [9, 10], [11, 12]]\n",
    "print(matrix_carp(a,b))"
   ]
  },
  {
   "cell_type": "markdown",
   "metadata": {},
   "source": [
    "Bir text dosyası içindeki kelimelerin frekansını bulma\n",
    "------------------\n",
    "Bir text dosyası içindeki her bir kelimenin kaç adet geçtiğini map(), reduce() gibi metotları kullanarak bulunuz.\n",
    "\n",
    "    ------girdi.txt-------\n",
    "    elma armut elma kiraz elma armut kiraz armut kiraz armut kiraz armut kiraz armut kiraz armut kiraz kiraz\n",
    "    ----------------------\n",
    "    \n",
    "    elma=3\n",
    "    armut=7\n",
    "    kiraz=8"
   ]
  },
  {
   "cell_type": "code",
   "execution_count": 30,
   "metadata": {},
   "outputs": [
    {
     "name": "stdout",
     "output_type": "stream",
     "text": [
      "['elma', 'armut', 'kiraz']\n",
      "elma:3 armut:7 kiraz:8\n"
     ]
    }
   ],
   "source": [
    "def frekans(meyve=[]):\n",
    "  \"\"\"\n",
    "    Tanım:\"meyve\" listesindeki tekrar eden elemanların adediyle birlikte bulan fonksiyon.\n",
    "    \n",
    "    Parametreler: meyve=[]: meyve isimlerinin olduğu liste.\n",
    "    \n",
    "    Çıktı:meyvelerin isimleri ve adetleri.\n",
    "  \"\"\"  \n",
    "  elma=kiraz=armut=0\n",
    "  for meyvee in meyve:\n",
    "\n",
    "   if meyvee==\"elma\":\n",
    "    elma=elma+1\n",
    "   elif meyvee==\"kiraz\":\n",
    "    kiraz=kiraz+1\n",
    "   elif meyvee==\"armut\":\n",
    "    armut=armut+1\n",
    "  print(f\"elma:{elma} armut:{armut} kiraz:{kiraz}\")\n",
    "\n",
    "\n",
    "content=open(\"girdi.txt\",\"w\",encoding=\"utf-8\")\n",
    "content.write(\"elma armut elma kiraz elma armut kiraz armut kiraz \"\n",
    "                 \"armut kiraz armut kiraz armut kiraz armut kiraz kiraz\")\n",
    "content.close()\n",
    "oku=open(\"girdi.txt\",\"r\",encoding=\"utf-8\")\n",
    "\n",
    "okunan=oku.read()\n",
    "okunan=okunan.split(\" \")\n",
    "oku.close()\n",
    "\n",
    "liste=[]\n",
    "[liste.append(x) for x in okunan if x not in liste]\n",
    "print(liste)\n",
    "frekans(okunan)"
   ]
  },
  {
   "cell_type": "code",
   "execution_count": null,
   "metadata": {},
   "outputs": [],
   "source": []
  }
 ],
 "metadata": {
  "kernelspec": {
   "display_name": "Python 3",
   "language": "python",
   "name": "python3"
  },
  "language_info": {
   "codemirror_mode": {
    "name": "ipython",
    "version": 3
   },
   "file_extension": ".py",
   "mimetype": "text/x-python",
   "name": "python",
   "nbconvert_exporter": "python",
   "pygments_lexer": "ipython3",
   "version": "3.8.5"
  }
 },
 "nbformat": 4,
 "nbformat_minor": 2
}
