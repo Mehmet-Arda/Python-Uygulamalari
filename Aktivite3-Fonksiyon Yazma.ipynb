{
 "cells": [
  {
   "cell_type": "markdown",
   "metadata": {},
   "source": [
    "#### Aktivite 3: Fonksiyon Yazma\n",
    "#### Aşağıdaki problemlemleri foksiyon yazarak altına çözüp birkaç farklı parametre için çıktıları gösteriniz.  Herbir fonksiyon için docstring dokümantasyonunu ve gerekli görülmesi durumunda program içinde yorum satırlarınızı da ekleyiniz. \"ogrenci_no.ipynb\" dosyasını çıktıları ile beraber pdf cevirip edestek yukleyiniz."
   ]
  },
  {
   "cell_type": "markdown",
   "metadata": {},
   "source": [
    "<ul>\n",
    "\t<li>Fonksiyona verilen en küçük parametreyi bulma</li>\n",
    "\t<li>Fibonacci sayıları</li>\n",
    "\t<li>Satranç atının gidebileceği kareler</li>\n",
    "\t<li>Machin formülü ile pi'yi bulmak</li>\n",
    "\t<li>İkinci derece denklem kökleri</li>\n",
    "\t<li>Mükemmel sayılar</li>\n",
    "</ul>"
   ]
  },
  {
   "cell_type": "markdown",
   "metadata": {},
   "source": [
    "En küçük parametre değeri\n",
    "-------------------\n",
    "Belirsiz sayıda sayısal parametre alıp parametreler arasındaki en küçük değeri geri veren bir fonksiyon yazın.\n",
    "\n",
    "Örnekler:\n",
    "\n",
    "    enkucuk(7)\n",
    "    7\n",
    "    \n",
    "    enkucuk(3,1,4)\n",
    "    1\n",
    "    \n",
    "    enkucuk(1,2,3,-1,4,-2,5)\n",
    "    -2\n",
    "Parametre listesi boş ise `None` dönsün (`return None` komutunu kullanın).\n",
    "\n",
    "    enkucuk()\n",
    "    None"
   ]
  },
  {
   "cell_type": "code",
   "execution_count": 1,
   "metadata": {},
   "outputs": [
    {
     "name": "stdout",
     "output_type": "stream",
     "text": [
      "(3, 5, -4)\n",
      "-4\n",
      "None\n"
     ]
    }
   ],
   "source": [
    "def enkucuk(*par):\n",
    "    #DOCSTRING:İçerisine gelen parametrelerden en küçük olanı bulur ve yazar.\n",
    "    #Parametre:Sayısı belirsiz integer.\n",
    "    #Out:En küçük sayı.\n",
    "\n",
    "    if(par==()):\n",
    "        return None\n",
    "    else:\n",
    "        print(par)\n",
    "        liste=list(par)\n",
    "        liste.sort()\n",
    "        print(liste[0])\n",
    "\n",
    "\n",
    "if __name__ == '__main__':\n",
    "   enkucuk()\n",
    "   enkucuk(3,5,-4)\n",
    "   if( enkucuk()==None):\n",
    "       print(None)\n"
   ]
  },
  {
   "cell_type": "markdown",
   "metadata": {},
   "source": [
    "Hatırlatma: Belirsiz sayıda parametreler\n",
    "-------------------\n",
    "Bir fonksiyonun kaç tane parametre alacağını önceden belirtmek zorunda da değilsiniz. Fonksiyon tanımını aşağıdaki gibi yaparak bütün konumsal parametrelerin bir tuple'da toplanmasını sağlayabilirsiniz."
   ]
  },
  {
   "cell_type": "code",
   "execution_count": 1,
   "metadata": {},
   "outputs": [],
   "source": [
    "def f(*par):\n",
    "    print(\"Parametreler:\", par)"
   ]
  },
  {
   "cell_type": "code",
   "execution_count": 2,
   "metadata": {},
   "outputs": [
    {
     "name": "stdout",
     "output_type": "stream",
     "text": [
      "Parametreler: ()\n",
      "Parametreler: (3,)\n",
      "Parametreler: (45, (3-4j), 'merhaba', [1, 2, 3])\n"
     ]
    }
   ],
   "source": [
    "f()      # hiç parametre yok, boş tuple.\n",
    "f(3)     # tek parametre, tekli tuple.\n",
    "f(45, 3-4j, \"merhaba\", [1,2,3])   # dörtlü tuple"
   ]
  },
  {
   "cell_type": "markdown",
   "metadata": {},
   "source": [
    "Fibonacci sayıları\n",
    "--------------------\n",
    "İlk `n` Fibonacci sayısını bir liste halinde veren bir fonksiyon yazın. Örnekler:\n",
    "\n",
    "    fib(0)\n",
    "    []\n",
    "    \n",
    "    fib(1)\n",
    "    [1]\n",
    "    \n",
    "    fib(2)\n",
    "    [1, 1]\n",
    "    \n",
    "    fib(10)\n",
    "    [1, 1, 2, 3, 5, 8, 13, 21, 34, 55]"
   ]
  },
  {
   "cell_type": "code",
   "execution_count": 1,
   "metadata": {},
   "outputs": [
    {
     "name": "stdout",
     "output_type": "stream",
     "text": [
      "[1, 1, 2, 3, 5, 8, 13, 21, 34, 55]\n"
     ]
    }
   ],
   "source": [
    "def fib(n):\n",
    "    #DOCSTRING:İçerisine gelen parametre = adım sayısı kadar fibonacci dizisini bulur ve yazar.\n",
    "    #Parametre:Adım sayısı.\n",
    "    #Out:Fibonacci dizisi.\n",
    "    \n",
    "    liste=[]\n",
    "    if n==0:\n",
    "        liste.append(0)\n",
    "        print(liste)\n",
    "    elif n==1:\n",
    "        liste.append(1)\n",
    "        print(liste)\n",
    "    else:\n",
    "        a=0\n",
    "        b=1\n",
    "        c=0\n",
    "        liste.append(1)\n",
    "        for i in range(n-1):\n",
    "\n",
    "            c=a+b\n",
    "            liste.append(c)\n",
    "            a = b\n",
    "            b=c\n",
    "        print(liste)\n",
    "\n",
    "\n",
    "\n",
    "if __name__ == '__main__':\n",
    "    fib(10)"
   ]
  },
  {
   "cell_type": "markdown",
   "metadata": {},
   "source": [
    "Satranç şahın hareketi\n",
    "---------------------------\n",
    "Satranç tahtasında şah dört yöne ve çapraza ileri geri  hareket eder.\n",
    "\n",
    "<img src=\"king2.gif\" />\n",
    "\n",
    "Şahın tahtadaki pozisyonunu iki parametre olarak alan ve gidebileceği karelerin listesini veren bir fonksiyon yazın. Her kareyi bir ikili tuple ile gösterin, `('a',1)`, `('g',5)` gibi. Şah tahtanın sınırlarına yakınsa, tahtanın dışına çıkacak hamleleri eleyin."
   ]
  },
  {
   "cell_type": "code",
   "execution_count": 2,
   "metadata": {},
   "outputs": [
    {
     "name": "stdout",
     "output_type": "stream",
     "text": [
      "[('G', 2), ('G', 4), ('F', 2), ('F', 3), ('F', 4), ('H', 2), ('H', 3), ('H', 4)]\n",
      "[('A', 2), ('B', 1), ('B', 2)]\n"
     ]
    }
   ],
   "source": [
    "def sah(t,k):\n",
    "    #DOCSTRING:Şahın pozisyonuna göre nerelere gidebilip gidemeyeceğini bulur.\n",
    "    #Parametre:Şahın yatayda ve dikeyde konumunu belirten iki parametre.\n",
    "    #Out:Gidebileceği yerler.\n",
    "\n",
    "    t=t.upper()\n",
    "    yatay=[1,2,3,4,5,6,7,8]\n",
    "    dikey=[\"A\",\"B\",\"C\",\"D\",\"E\",\"F\",\"G\",\"H\"]\n",
    "    a=dikey.index(t)\n",
    "    b=yatay.index(k)\n",
    "    konum=[]\n",
    "    if a-1<0 and b-1<0:\n",
    "        konum.append((dikey[a], yatay[b + 1]))\n",
    "        konum.append((dikey[a + 1], yatay[b]))\n",
    "        konum.append((dikey[a + 1], yatay[b + 1]))\n",
    "        print(konum)\n",
    "\n",
    "    elif a-1<0 and b-1>=0 :\n",
    "        konum.append((dikey[a], yatay[b - 1]))\n",
    "        konum.append((dikey[a], yatay[b + 1]))\n",
    "        konum.append((dikey[a + 1], yatay[b - 1]))\n",
    "        konum.append((dikey[a + 1], yatay[b]))\n",
    "        konum.append((dikey[a + 1], yatay[b + 1]))\n",
    "        print(konum)\n",
    "\n",
    "    elif  a-1>=0 and b-1<0 :\n",
    "        konum.append((dikey[a], yatay[b + 1]))\n",
    "        konum.append((dikey[a - 1], yatay[b]))\n",
    "        konum.append((dikey[a - 1], yatay[b + 1]))\n",
    "        konum.append((dikey[a + 1], yatay[b]))\n",
    "        konum.append((dikey[a + 1], yatay[b + 1]))\n",
    "        print(konum)\n",
    "\n",
    "    else :\n",
    "        konum.append((dikey[a], yatay[b - 1]))\n",
    "        konum.append((dikey[a], yatay[b + 1]))\n",
    "        konum.append((dikey[a - 1], yatay[b - 1]))\n",
    "        konum.append((dikey[a - 1], yatay[b]))\n",
    "        konum.append((dikey[a - 1], yatay[b + 1]))\n",
    "        konum.append((dikey[a + 1], yatay[b - 1]))\n",
    "        konum.append((dikey[a + 1], yatay[b]))\n",
    "        konum.append((dikey[a + 1], yatay[b + 1]))\n",
    "        print(konum)\n",
    "\n",
    "\n",
    "\n",
    "if __name__ == '__main__':\n",
    "    sah(\"g\",3)\n",
    "    sah(\"a\",1)\n"
   ]
  },
  {
   "cell_type": "markdown",
   "metadata": {},
   "source": [
    "Machin formülü ile Pi sayısı\n",
    "--------------------------------\n",
    "Pi sayısını hesaplamak için birçok yöntem vardır. Bunların hepsi teorik olarak $\\pi$'ye eşit olsalar da, bazıları belli bir hassasiyete ulaşmak için çok fazla hesap gerektirdikleri için pratikte işe yaramazlar. 1706'da John Machin $\\pi$ sayısı için hızlı yakınsayan, böylelikle az sayıda terimle yüksek doğruluk sağlayan bir formül yayınladı.\n",
    "\n",
    "$$\\pi = 16 \\arctan \\frac{1}{5} - 4 \\arctan \\frac{1}{239}$$\n",
    "\n",
    "Bu formüldeki arktanjant fonksiyonunu hesaplamak için bir Taylor serisi kullanılabilir.\n",
    "\n",
    "$$\\arctan x = x - \\frac{1}{3}x^3 + \\frac{1}{5}x^5 - \\frac{1}{7} x^7 + \\cdots$$\n",
    "\n",
    "Machin formülünde arktanjantı alınan sayılar küçük oldukları için, serinin az sayıda elemanıyla yüksek hassasiyeti sağlamak mümkün olacaktır.\n",
    "\n",
    "Machin formülü ile $\\pi$ sayısını yaklaşık olarak hesaplayan bir fonksiyon yazın. Fonksiyon sadece tolerans değerini parametre olarak alsın (varsayılan değer $10^{-8}$). Arktanjant fonksiyonu için matematik kütüphanesi kullanmayın, Taylor serisindeki terimleri gerekli toleransı sağlayana kadar ekleyin. Yeni eklenen terim toleransın altına düştüğünde durun."
   ]
  },
  {
   "cell_type": "code",
   "execution_count": 3,
   "metadata": {},
   "outputs": [
    {
     "name": "stdout",
     "output_type": "stream",
     "text": [
      "3.1415926526153086\n"
     ]
    }
   ],
   "source": [
    "import math\n",
    "#3.14159265359\n",
    "#3.14159265358979323\n",
    "\n",
    "\n",
    "def machin(h=10**-8):\n",
    "    #DOCSTRING:Machin formülü hesaplayarak pi sayısını bulur.\n",
    "    #Parametre:Hassasiyeti belirleyen integer.\n",
    "    #Out:Pi sayısı.\n",
    "    \n",
    "    z=4\n",
    "    pi=16*arctan(1/5,z)-4*arctan(1/239,z)\n",
    "    while math.fabs(math.pi - pi) > h:\n",
    "        z=z+1\n",
    "        pi = 16 * arctan(1 / 5, z) - 4 * arctan(1 / 239, z)\n",
    "    print(pi)\n",
    "def arctan(x,y):\n",
    "    #DOCSTRING:Arctan hesaplar.\n",
    "    #Parametre:Arctan'ı alınacak x değişkeni ve y kadar adım sayısı.\n",
    "    #Out:X'in Arctan'ı.\n",
    "    \n",
    "    t=1\n",
    "    sonuc=0\n",
    "    for i in range(y):\n",
    "        if i % 2 == 0:\n",
    "         sonuc+=(1/t)*(x**t)\n",
    "         t+=2\n",
    "        else:\n",
    "         sonuc-=(1/t)*(x**t)\n",
    "         t+=2\n",
    "    return sonuc\n",
    "if __name__ == '__main__':\n",
    "    machin()\n"
   ]
  },
  {
   "cell_type": "markdown",
   "metadata": {},
   "source": [
    "İkinci derece denklemin kökleri\n",
    "--------------------------------\n",
    "\n",
    "Bir $x$ değişkeni için genel ikinci derece denklem $ax^2 + bx + c = 0$ olarak ifade edilir. Eğer $a\\neq 0$ ise, denklemin iki kökü\n",
    "\n",
    "$$x_{1,2} = \\frac{-b \\pm \\sqrt{b^2-4ac}}{2a}$$\n",
    "\n",
    "formülüyle bulunur. Eğer $a=0$ ise çözüm $x = -c/b$ olur.\n",
    "\n",
    "Denklemin katsayıları `a`, `b` ve `c`'yi parametre olarak alan ve denklemin köklerini (ikili çokuz olarak) veren bir fonksiyon yazın. Fonksiyon `a`'nın 0 olduğu özel durumda tekli çokuz vermeli.\n",
    "\n",
    "Diskriminantın ($b^2 -4ac$) negatif olduğu durumlarda kökler reel sayı değil karmaşık sayı olacaktır. Bu durumlarda da fonksiyonun hatasız çalışması için, karmaşık sayıli matematik kütüphanesini `import cmath` komutuyla yükleyip, karekök almak için `cmath.sqrt()` fonksiyonunu kullanabilirsiniz.\n",
    "\n",
    "Örnekler:\n",
    "\n",
    "    kökler(1,0,-4)\n",
    "    ((2+0j), (-2+0j))\n",
    "    \n",
    "    kökler(1,0,4)\n",
    "    (2j, -2j)\n",
    "    \n",
    "    kökler(0,1,4)\n",
    "    -4.0"
   ]
  },
  {
   "cell_type": "code",
   "execution_count": 4,
   "metadata": {},
   "outputs": [
    {
     "name": "stdout",
     "output_type": "stream",
     "text": [
      "((2+0j), (-2+0j))\n"
     ]
    }
   ],
   "source": [
    "import cmath\n",
    "\n",
    "def denkleminKoku(a,b,c):\n",
    "    #DOCSTRING:İkinci dereceden denklemin köklerini bulur.\n",
    "    #Parametre:Denklemdeki değişkenlerin katsayıları.\n",
    "    #Out:Denklemin kökleri.\n",
    "    \n",
    "   k=()\n",
    "   dis=b**2-4*a*c\n",
    "   if a != 0:\n",
    "    x1=(-b+cmath.sqrt(dis))/(2*a)\n",
    "    x2=(-b-cmath.sqrt(dis))/(2*a)\n",
    "    k=x1,x2\n",
    "   elif a==0:\n",
    "    x1=x2=-c/b\n",
    "    k=x1\n",
    "   return k\n",
    "if __name__ == '__main__':\n",
    "\n",
    "  print(denkleminKoku(1,0,-4))\n",
    "\n"
   ]
  },
  {
   "cell_type": "markdown",
   "metadata": {},
   "source": [
    "Mükemmel sayılar\n",
    "------------------\n",
    "Bir sayı bütün çarpanlarının (1 dahil, kendisi hariç) toplamına eşitse, o sayıya _mükemmel sayı_ denir. Sözgelişi, 1+2+3=6 olduğundan, 6 bir mükemmel sayıdır.\n",
    "\n",
    "Verilen bir sayı \"mükemmel\"se `True`, değilse `False` veren bir fonksiyon yazın. Örnek:\n",
    "\n",
    "    mukemmel(6)\n",
    "    True\n",
    "    \n",
    "    mukemmel(10)\n",
    "    False\n",
    "    \n",
    "Bu fonksiyonu kullanarak, 10 000'den küçük bütün \"mükemmel\" sayıları bulun."
   ]
  },
  {
   "cell_type": "code",
   "execution_count": 6,
   "metadata": {},
   "outputs": [
    {
     "name": "stdout",
     "output_type": "stream",
     "text": [
      "True\n",
      "False\n",
      "0\n",
      "6\n",
      "28\n",
      "496\n",
      "8128\n"
     ]
    }
   ],
   "source": [
    "def mukemmel(x):\n",
    "    #DOCSTRING:Mükemmel sayı olup olmadığı sorgusunu yapar.\n",
    "    #Parametre:Mükemmel sayı sorgusuna tabi tutulacak integer değişken.\n",
    "    #Out:Mükemmel mi değil mi buna göre True - False dönderir.\n",
    "    \n",
    "  toplam=0\n",
    "  for i in range(1,x):\n",
    "    if x%i==0:\n",
    "     toplam+=i\n",
    "  if toplam==x:\n",
    "    return True\n",
    "  else : return False\n",
    "\n",
    "if __name__ == '__main__':\n",
    "    print(mukemmel(6))\n",
    "    print(mukemmel(10))\n",
    "    \n",
    "    for i in range(10000):\n",
    "        if(mukemmel(i)==True):\n",
    "            print(i)\n",
    "\n",
    "\n"
   ]
  },
  {
   "cell_type": "code",
   "execution_count": null,
   "metadata": {},
   "outputs": [],
   "source": []
  }
 ],
 "metadata": {
  "kernelspec": {
   "display_name": "Python 3",
   "language": "python",
   "name": "python3"
  },
  "language_info": {
   "codemirror_mode": {
    "name": "ipython",
    "version": 3
   },
   "file_extension": ".py",
   "mimetype": "text/x-python",
   "name": "python",
   "nbconvert_exporter": "python",
   "pygments_lexer": "ipython3",
   "version": "3.8.5"
  }
 },
 "nbformat": 4,
 "nbformat_minor": 2
}
